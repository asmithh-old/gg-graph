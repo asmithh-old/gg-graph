{
 "cells": [
  {
   "cell_type": "code",
   "execution_count": 6,
   "metadata": {
    "collapsed": false
   },
   "outputs": [],
   "source": [
    "import matplotlib.pyplot as plt, pandas as pd, datetime , time\n",
    "import os.path, cPickle\n",
    "#fb_table = pd.DataFrame.from_csv(os.path.expanduser('~/Desktop/top500.csv'))\n",
    "stories = pd.DataFrame.from_csv(os.path.expanduser( '~/Desktop/berkman/gg-graph/stories.csv'))"
   ]
  },
  {
   "cell_type": "code",
   "execution_count": 7,
   "metadata": {
    "collapsed": false
   },
   "outputs": [],
   "source": [
    "publish_dates_dict = {i[1]['title']:i[1]['publish_date'] for i in stories.iterrows()}\n",
    "epoch = datetime.datetime.utcfromtimestamp(0)\n",
    "b = []\n",
    "gg_epoch = datetime.datetime.strptime('2014-08-01 05:00:00', '%Y-%m-%d %H:%M:%S')\n",
    "for i in stories.iterrows():\n",
    "    try:\n",
    "        t = datetime.datetime.strptime(i[1]['publish_date'], '%Y-%m-%d %H:%M:%S')\n",
    "        if t > gg_epoch:\n",
    "            b.append(t)\n",
    "    except:\n",
    "        pass\n",
    "# time.mktime(t.timetuple())\n",
    "b = [time.mktime(t.timetuple()) for t in b]\n",
    "earliest = min(b)\n",
    "b = [t-earliest for t in b]\n",
    "#plt.xkcd()\n",
    "plt.hist(b,bins=26)\n",
    "plt.show()\n"
   ]
  },
  {
   "cell_type": "code",
   "execution_count": 37,
   "metadata": {
    "collapsed": false
   },
   "outputs": [],
   "source": [
    "import matplotlib.pyplot as plt, pandas as pd, datetime , time, matplotlib\n",
    "import os.path, cPickle\n",
    "font = {'family' : 'Tahoma',\n",
    "        'weight' : 'regular',\n",
    "        'size'   : 12}\n",
    "\n",
    "matplotlib.rc('font', **font)\n",
    "mc_stories = pd.DataFrame.from_csv(os.path.expanduser( '~/Downloads/mediacloud-sentence-counts-20150730152700.csv'))\n",
    "st = {str(i[0])[:10]: int(i[1]['sentences']) for i in mc_stories.iterrows()}\n",
    "plt.bar(range(len(st)), [st[i] for i in sorted(st.keys())], edgecolor = \"none\")\n",
    "ax = plt.subplot(111)  \n",
    "ax.spines[\"top\"].set_visible(False)  \n",
    "ax.spines[\"bottom\"].set_visible(False)  \n",
    "ax.spines[\"right\"].set_visible(False)  \n",
    "ax.spines[\"left\"].set_visible(False) \n",
    "#times = [i if i[8]=='0' and i[9]<'8' else '' for i in sorted(st.keys())]\n",
    "#print times\n",
    "#\n",
    "\n",
    "#small peak 12/12\n",
    "#mid-jan? -- what happens around 1/23?\n",
    "#peak mar. 6\n",
    "plt.plot((2.2, 2.2), (0, 500),'k:')\n",
    "ax.annotate(\"8/16: \\n the 'Zoe Post,'\\n published \\n by Eron Gjoni, \\n accuses Zoe Quinn \\n of infidelity\", xy=(.7, 450), xytext=(.7, 450), fontsize = 9)\n",
    "plt.plot((2.65, 2.65), (0, 800),'k:')\n",
    "ax.annotate(\"8/19: Zoe Quinn doxxed. \\n 8/21: 4chan begins \\n donating to TFYC's \\n crowdfunding \\n campaign\", xy = (2.5, 850), xytext = (2.5, 850), fontsize = 9)\n",
    "plt.plot((3.8, 3.8), (0, 1500),'k:')\n",
    "ax.annotate('around 8/28: \\n Articles discussing \\n \"the death of gamers\" \\n are published; \\n 8/28 Adam Baldwin \\n starts the hashtag \\n #gamergate on Twitter', xy = (3.5, 1400), xytext = (3.5, 1400), fontsize = 9)\n",
    "plt.plot((5, 5), (0, 2450), 'k:')\n",
    "ax.annotate('9/2: \\n #notyourshield \\n starts on Twitter. \\n 9/6: Zoe Quinn \\n publishes chat logs \\n from Gamergate IRC channel.', xy = (4, 2450), xytext = (4, 2450), fontsize = 9)\n",
    "plt.plot((7.5, 7.5), (0, 3000),'k:')\n",
    "ax.annotate('around 9/21: \\n spike in \\n Wikipedia edit wars \\n on Gamergate article. ', xy = (6, 3000), xytext = (6, 3000), fontsize = 9)\n",
    "plt.plot((8.5, 8.5), (0, 1200),'k:')\n",
    "ax.annotate('10/1: \\n Intel pulls \\n ads from \\n Gamasutra; \\n Gamergate \\n claims victory.', xy = (7.9, 1200), xytext = (7.9, 1200), fontsize = 9)\n",
    "plt.plot((10.4, 10.4), (0, 4300),'k:')\n",
    "ax.annotate('10/14: \\n Anita Sarkeesian \\n cancels Utah State talk \\n due to shooting threat', xy = (10, 4300), xytext = (10, 4300), fontsize = 9)\n",
    "plt.plot((12, 12), (0, 3250),'k:')\n",
    "ax.annotate('mid-Oct: \\n Gamergaters accuse \\n Gawker of bullying; \\n multiple companies pull advertising.', xy = (11, 3300), xytext = (11, 3300), fontsize = 9)\n",
    "\n",
    "##TODO: 10/23: Felicia Day doxxed\n",
    "##TODO: 11/3: Randi Harper considers ggautoblocker. first version published 11/11.\n",
    "plt.plot((14.5, 14.5), (0, 1500), 'k:')\n",
    "ax.annotate('11/11: \\n Randi Harper publishes \\n the first version \\n of ggautoblocker; \\n Gamergate sees \\n it as a blacklist.', xy = (14, 1500), xytext = (14, 1500), fontsize = 9)\n",
    "##TODO: 12/2: brianna wu's family doxxed.\n",
    "plt.plot((19.7, 19.7), (0, 1500), 'k:')\n",
    "ax.annotate('12/18: \\n FBI says it has \\n an open investigation \\n involving Gamergate.', xy = (18.5, 1500), xytext = (18.5, 1500), fontsize = 9)\n",
    "plt.plot((24.4, 24.4), (0, 2200),'k:')\n",
    "ax.annotate('1/19: \\n Zoe Quinn \\n launches Crash \\n Override Network', xy = (22.5, 2200), xytext = (22.5, 2200), fontsize = 9)\n",
    "times = [\"Aug. '14\", '', '', '', '', \"Sept. '14\", '', '', '', \"Oct. '14\", '', '', '', '', \"Nov. '14\", '', '', '', \"Dec. '14\", '', '', '', \"Jan. '15\", '', '', '', '', \"Feb. '15\", '', '', '', \"Mar. '15\", '', '', '']\n",
    "plt.plot((27.55, 27.55), (0, 3000),'k:')\n",
    "ax.annotate('2/11: \\n Gamergate-inspired \\n Law & Order episode airs;\\n both factions are displeased.', xy = (27, 3000), xytext = (27, 3000), fontsize = 9)\n",
    "plt.plot((31, 31), (0, 4500),'k:')\n",
    "ax.annotate(\"3/6: \\n Anita Sarkeesian named to Time's list of \\n 30 most influential people on the Internet. \\n Wikipedia edits to Gamergate and related articles spike.\", xy = (30, 4700), xytext = (30, 4700), fontsize = 9)\n",
    "\n",
    "#times = sorted(st.keys())\n",
    "plt.xlabel('Date (each bar represents one week)')\n",
    "plt.ylabel('number of relevant sentences to gamergate query')\n",
    "plt.xticks(range(len(st)), times, size='9.5', rotation = 0)\n",
    "plt.tick_params(axis=\"both\", which=\"both\", bottom=\"off\", top=\"off\",  \n",
    "                labelbottom=\"on\", left=\"off\", right=\"off\", labelleft=\"on\")\n",
    "plt.show()\n"
   ]
  },
  {
   "cell_type": "code",
   "execution_count": 31,
   "metadata": {
    "collapsed": false
   },
   "outputs": [
    {
     "data": {
      "text/plain": [
       "35"
      ]
     },
     "execution_count": 31,
     "metadata": {},
     "output_type": "execute_result"
    }
   ],
   "source": [
    "len(st.keys())"
   ]
  },
  {
   "cell_type": "code",
   "execution_count": null,
   "metadata": {
    "collapsed": true
   },
   "outputs": [],
   "source": []
  }
 ],
 "metadata": {
  "kernelspec": {
   "display_name": "Python 2",
   "language": "python",
   "name": "python2"
  },
  "language_info": {
   "codemirror_mode": {
    "name": "ipython",
    "version": 2
   },
   "file_extension": ".py",
   "mimetype": "text/x-python",
   "name": "python",
   "nbconvert_exporter": "python",
   "pygments_lexer": "ipython2",
   "version": "2.7.6"
  }
 },
 "nbformat": 4,
 "nbformat_minor": 0
}
